{
  "nbformat": 4,
  "nbformat_minor": 0,
  "metadata": {
    "colab": {
      "private_outputs": true,
      "provenance": [],
      "mount_file_id": "1aJ2Lpe7mO39P5K6dhayea_9PZNpuVSBI",
      "authorship_tag": "ABX9TyNQ/EDLrA7xhrLSWh4zTmMl",
      "include_colab_link": true
    },
    "kernelspec": {
      "name": "python3",
      "display_name": "Python 3"
    },
    "language_info": {
      "name": "python"
    }
  },
  "cells": [
    {
      "cell_type": "markdown",
      "metadata": {
        "id": "view-in-github",
        "colab_type": "text"
      },
      "source": [
        "<a href=\"https://colab.research.google.com/github/xlnt415/visualization/blob/main/dash/dash%EC%8B%A4%EC%8A%B5.ipynb\" target=\"_parent\"><img src=\"https://colab.research.google.com/assets/colab-badge.svg\" alt=\"Open In Colab\"/></a>"
      ]
    },
    {
      "cell_type": "markdown",
      "source": [
        "# DASH 실습"
      ],
      "metadata": {
        "id": "Zvl6cb2tiYml"
      }
    },
    {
      "cell_type": "markdown",
      "source": [
        "## 1. 기초"
      ],
      "metadata": {
        "id": "JtpR8pznie9k"
      }
    },
    {
      "cell_type": "code",
      "execution_count": null,
      "metadata": {
        "id": "BSUrKkWGiUkW"
      },
      "outputs": [],
      "source": [
        "# 라이브러리 호출\n",
        "\n",
        "import pandas as pd\n",
        "import numpy as np\n",
        "import plotly.graph_objects as go"
      ]
    },
    {
      "cell_type": "code",
      "source": [
        "df = pd.read_csv('/content/drive/MyDrive/xlnt_space/dash/rawdata/Data.csv')"
      ],
      "metadata": {
        "id": "xyC8GNvAiX8N"
      },
      "execution_count": null,
      "outputs": []
    },
    {
      "cell_type": "code",
      "source": [
        "# 연도, 월 변수 생성\n",
        "\n",
        "df['year'] = df['OrderDate'].str.slice(start = 0, stop = 4)\n",
        "df['month'] = df['OrderDate'].str.slice(start = 5, stop = 7)\n",
        "\n",
        "# 데이터 정렬\n",
        "df = df.sort_values(by = ['Region', 'Channel', 'Category', 'Item Type', 'year', 'month', 'Gender'])"
      ],
      "metadata": {
        "id": "gSwngWzoiX-o"
      },
      "execution_count": null,
      "outputs": []
    },
    {
      "cell_type": "code",
      "source": [
        "# 2020년도 이익 변수 생성\n",
        "d20 = df[df['year'] == '2020'].copy()\n",
        "d20['Margin'] = d20['Revenue'] - d20['Cost']"
      ],
      "metadata": {
        "id": "Im6NIEESiYAx"
      },
      "execution_count": null,
      "outputs": []
    },
    {
      "cell_type": "code",
      "source": [
        "# Country별 매출 및 이익 합계 산출\n",
        "df_g = d20.loc[:, ['Country', 'Revenue', 'Margin']].groupby(by = ['Country'], as_index = False).sum()\n",
        "df_g = df_g.sort_values(by = ['Revenue'], ascending = False)"
      ],
      "metadata": {
        "id": "R7l7VhHyiYF8"
      },
      "execution_count": null,
      "outputs": []
    },
    {
      "cell_type": "code",
      "source": [
        "# 매출 순위 변수 [rank] 생성 후, 매출 상위 10개 Country 추출\n",
        "df_g['rank'] = list(range(1, len(df_g['Country']) + 1))\n",
        "df_g1 = df_g[df_g['rank'] <= 10].reset_index(drop = True)\n",
        "\n",
        "df_g1"
      ],
      "metadata": {
        "id": "p5E2oYJciYIX"
      },
      "execution_count": null,
      "outputs": []
    },
    {
      "cell_type": "markdown",
      "source": [
        "### 그래프"
      ],
      "metadata": {
        "id": "XruGIjlVnFqZ"
      }
    },
    {
      "cell_type": "code",
      "source": [
        "# Bar\n",
        "\n",
        "trace = go.Bar(\n",
        "    x = df_g1.Country,\n",
        "    y = df_g1.Revenue,\n",
        "    text = round(df_g1.Revenue, 2))\n",
        "\n",
        "data = [trace]\n",
        "layout = go.Layout(title = 'Chapter 2.1 - Bar Chart')\n",
        "\n",
        "fig = go.Figure(data, layout)\n",
        "fig.show()"
      ],
      "metadata": {
        "id": "6ozEvwctiYK9"
      },
      "execution_count": null,
      "outputs": []
    },
    {
      "cell_type": "code",
      "source": [
        "# 중첩 BAR\n",
        "\n",
        "trace1 = go.Bar(\n",
        "    y = df_g1['Country'],\n",
        "    x = df_g1.Revenue,\n",
        "    name = 'Revunues',\n",
        "    orientation = 'h'\n",
        ")\n",
        "\n",
        "trace2 = go.Bar(\n",
        "    y = df_g1['Country'],\n",
        "    x = df_g1.Margin,\n",
        "    name = 'Margin',\n",
        "    orientation = 'h'\n",
        ")\n",
        "\n",
        "data = [trace1, trace2]\n",
        "layout = go.Layout(title = 'Chapter 2.1 - Bar Chart',\n",
        "                   barmode = 'group',\n",
        "                   yaxis = dict(autorange = 'reversed'))\n",
        "\n",
        "fig = go.Figure(data, layout)\n",
        "fig.show();"
      ],
      "metadata": {
        "id": "aeo7vDotiYNQ"
      },
      "execution_count": null,
      "outputs": []
    },
    {
      "cell_type": "code",
      "source": [],
      "metadata": {
        "id": "-1jxXrzxiYPV"
      },
      "execution_count": null,
      "outputs": []
    },
    {
      "cell_type": "code",
      "source": [],
      "metadata": {
        "id": "hhGmwEAviYYX"
      },
      "execution_count": null,
      "outputs": []
    }
  ]
}