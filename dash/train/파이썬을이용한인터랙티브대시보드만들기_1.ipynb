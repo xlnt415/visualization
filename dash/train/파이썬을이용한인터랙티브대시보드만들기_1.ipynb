{
  "nbformat": 4,
  "nbformat_minor": 0,
  "metadata": {
    "colab": {
      "private_outputs": true,
      "provenance": [],
      "mount_file_id": "1aJ2Lpe7mO39P5K6dhayea_9PZNpuVSBI",
      "authorship_tag": "ABX9TyNJ2b8LHSSvBFG7k8OTQ85T",
      "include_colab_link": true
    },
    "kernelspec": {
      "name": "python3",
      "display_name": "Python 3"
    },
    "language_info": {
      "name": "python"
    }
  },
  "cells": [
    {
      "cell_type": "markdown",
      "metadata": {
        "id": "view-in-github",
        "colab_type": "text"
      },
      "source": [
        "<a href=\"https://colab.research.google.com/github/xlnt415/visualization/blob/main/dash/%ED%8C%8C%EC%9D%B4%EC%8D%AC%EC%9D%84%EC%9D%B4%EC%9A%A9%ED%95%9C%EC%9D%B8%ED%84%B0%EB%9E%99%ED%8B%B0%EB%B8%8C%EB%8C%80%EC%8B%9C%EB%B3%B4%EB%93%9C%EB%A7%8C%EB%93%A4%EA%B8%B0_1.ipynb\" target=\"_parent\"><img src=\"https://colab.research.google.com/assets/colab-badge.svg\" alt=\"Open In Colab\"/></a>"
      ]
    },
    {
      "cell_type": "markdown",
      "source": [
        "# DASH 실습"
      ],
      "metadata": {
        "id": "Zvl6cb2tiYml"
      }
    },
    {
      "cell_type": "markdown",
      "source": [
        "## 0. 라이브러리 호출"
      ],
      "metadata": {
        "id": "_WAVNWIepxqC"
      }
    },
    {
      "cell_type": "code",
      "execution_count": null,
      "metadata": {
        "id": "BSUrKkWGiUkW"
      },
      "outputs": [],
      "source": [
        "# 라이브러리 호출\n",
        "\n",
        "import pandas as pd\n",
        "import numpy as np\n",
        "import plotly.graph_objects as go\n",
        "from plotly.subplots import make_subplots"
      ]
    },
    {
      "cell_type": "markdown",
      "source": [
        "## 1. 기초"
      ],
      "metadata": {
        "id": "JtpR8pznie9k"
      }
    },
    {
      "cell_type": "code",
      "source": [
        "df = pd.read_csv('/content/drive/MyDrive/xlnt_space/dash/rawdata/Data.csv')"
      ],
      "metadata": {
        "id": "xyC8GNvAiX8N"
      },
      "execution_count": null,
      "outputs": []
    },
    {
      "cell_type": "code",
      "source": [
        "# 연도, 월 변수 생성\n",
        "\n",
        "df['year'] = df['OrderDate'].str.slice(start = 0, stop = 4)\n",
        "df['month'] = df['OrderDate'].str.slice(start = 5, stop = 7)\n",
        "\n",
        "# 데이터 정렬\n",
        "df = df.sort_values(by = ['Region', 'Channel', 'Category', 'Item Type', 'year', 'month', 'Gender'])"
      ],
      "metadata": {
        "id": "gSwngWzoiX-o"
      },
      "execution_count": null,
      "outputs": []
    },
    {
      "cell_type": "code",
      "source": [
        "# 2020년도 이익 변수 생성\n",
        "d20 = df[df['year'] == '2020'].copy()\n",
        "d20['Margin'] = d20['Revenue'] - d20['Cost']"
      ],
      "metadata": {
        "id": "Im6NIEESiYAx"
      },
      "execution_count": null,
      "outputs": []
    },
    {
      "cell_type": "code",
      "source": [
        "# Country별 매출 및 이익 합계 산출\n",
        "df_g = d20.loc[:, ['Country', 'Revenue', 'Margin']].groupby(by = ['Country'], as_index = False).sum()\n",
        "df_g = df_g.sort_values(by = ['Revenue'], ascending = False)"
      ],
      "metadata": {
        "id": "R7l7VhHyiYF8"
      },
      "execution_count": null,
      "outputs": []
    },
    {
      "cell_type": "code",
      "source": [
        "# 매출 순위 변수 [rank] 생성 후, 매출 상위 10개 Country 추출\n",
        "df_g['rank'] = list(range(1, len(df_g['Country']) + 1))\n",
        "df_g1 = df_g[df_g['rank'] <= 10].reset_index(drop = True)\n",
        "\n",
        "df_g1"
      ],
      "metadata": {
        "id": "p5E2oYJciYIX"
      },
      "execution_count": null,
      "outputs": []
    },
    {
      "cell_type": "markdown",
      "source": [
        "\n",
        "\n",
        "## 그래프"
      ],
      "metadata": {
        "id": "XruGIjlVnFqZ"
      }
    },
    {
      "cell_type": "markdown",
      "source": [
        "### 바그래프"
      ],
      "metadata": {
        "id": "dNKp30ywkABh"
      }
    },
    {
      "cell_type": "code",
      "source": [
        "# Bar\n",
        "\n",
        "trace = go.Bar(\n",
        "    x = df_g1.Country,\n",
        "    y = df_g1.Revenue,\n",
        "    text = round(df_g1.Revenue, 2))\n",
        "\n",
        "data = [trace]\n",
        "layout = go.Layout(title = 'Chapter 2.1 - Bar Chart')\n",
        "\n",
        "fig = go.Figure(data, layout)\n",
        "fig.show()"
      ],
      "metadata": {
        "id": "6ozEvwctiYK9"
      },
      "execution_count": null,
      "outputs": []
    },
    {
      "cell_type": "markdown",
      "source": [
        "### 중첩 바그래프"
      ],
      "metadata": {
        "id": "GzcNR1FOkO3q"
      }
    },
    {
      "cell_type": "code",
      "source": [
        "# 중첩 BAR\n",
        "\n",
        "trace1 = go.Bar(\n",
        "    y = df_g1['Country'],\n",
        "    x = df_g1.Revenue,\n",
        "    name = 'Revunues',\n",
        "    orientation = 'h'\n",
        ")\n",
        "\n",
        "trace2 = go.Bar(\n",
        "    y = df_g1['Country'],\n",
        "    x = df_g1.Margin,\n",
        "    name = 'Margin',\n",
        "    orientation = 'h'\n",
        ")\n",
        "\n",
        "data = [trace1, trace2]\n",
        "layout = go.Layout(title = 'Chapter 2.1 - Bar Chart',\n",
        "                   barmode = 'group',\n",
        "                   yaxis = dict(autorange = 'reversed'))\n",
        "\n",
        "fig = go.Figure(data, layout)\n",
        "fig.show();"
      ],
      "metadata": {
        "id": "aeo7vDotiYNQ"
      },
      "execution_count": null,
      "outputs": []
    },
    {
      "cell_type": "markdown",
      "source": [
        "### Scatter & Line Chart"
      ],
      "metadata": {
        "id": "kjiIpZU4kcN7"
      }
    },
    {
      "cell_type": "code",
      "source": [
        "df_g = df.loc[:, ['Revenue', 'year', 'month']].groupby(by = ['year', 'month'], as_index = False).sum()\n",
        "\n",
        "year = list(df_g.year.unique())"
      ],
      "metadata": {
        "id": "6tglqH50lrlV"
      },
      "execution_count": null,
      "outputs": []
    },
    {
      "cell_type": "code",
      "source": [
        "traces = []\n",
        "\n",
        "for years in year:\n",
        "    tmp = df_g[df_g.year == years]\n",
        "    traces.append(go.Scatter(x = tmp.month,\n",
        "                             y = tmp.Revenue,\n",
        "                             mode = 'lines+markers',\n",
        "                             marker = dict(size = 10),\n",
        "                             name = years))\n",
        "\n",
        "\n",
        "data = traces\n",
        "\n",
        "layout = go.Layout(\n",
        "    title = 'Chater2.2 - Scatter & Line Charts',\n",
        "    xaxis = dict(title = 'Month'),\n",
        "    yaxis = dict(title = 'Revenue')\n",
        ")\n",
        "\n",
        "fig = go.Figure(data, layout)\n",
        "\n",
        "fig.show()"
      ],
      "metadata": {
        "id": "-1jxXrzxiYPV"
      },
      "execution_count": null,
      "outputs": []
    },
    {
      "cell_type": "markdown",
      "source": [
        "### Pie Chart"
      ],
      "metadata": {
        "id": "hmUO7IKTmZm4"
      }
    },
    {
      "cell_type": "code",
      "source": [
        "df_g = df[df.year == '2020'].copy()\n",
        "\n",
        "df_g1 = df_g.loc[:, ['AgeGroup', 'Revenue']].groupby(by = ['AgeGroup'], as_index = False).sum()"
      ],
      "metadata": {
        "id": "ieiccUoIm_7K"
      },
      "execution_count": null,
      "outputs": []
    },
    {
      "cell_type": "code",
      "source": [
        "trace = go.Pie(\n",
        "    labels = df_g1.AgeGroup,\n",
        "    values = df_g1.Revenue\n",
        ")\n",
        "\n",
        "data = [trace]\n",
        "\n",
        "layout = go.Layout(title = 'Chapter 2.3 - Pie Chart')\n",
        "fig = go.Figure(data, layout)\n",
        "\n",
        "fig.show()"
      ],
      "metadata": {
        "id": "hhGmwEAviYYX"
      },
      "execution_count": null,
      "outputs": []
    },
    {
      "cell_type": "markdown",
      "source": [
        "#### 조각 분리"
      ],
      "metadata": {
        "id": "9EL_mSJtnoNk"
      }
    },
    {
      "cell_type": "code",
      "source": [
        "trace = go.Pie(\n",
        "    labels = df_g1.AgeGroup,\n",
        "    values = df_g1.Revenue,\n",
        "    pull = [0, 0, 0.2, 0, 0] # label 순서와 동일(0~1범위), 코드 의미 : 40대 조각을 0.2만큼 분리\n",
        ")\n",
        "\n",
        "data = [trace]\n",
        "\n",
        "layout = go.Layout(title = 'Chapter 2.3 - Pie Chart Split')\n",
        "\n",
        "fig = go.Figure(data, layout)\n",
        "fig.show()"
      ],
      "metadata": {
        "id": "_MbW7SFwmZSg"
      },
      "execution_count": null,
      "outputs": []
    },
    {
      "cell_type": "markdown",
      "source": [
        "### 도넛모양"
      ],
      "metadata": {
        "id": "ybWILoxQoc6m"
      }
    },
    {
      "cell_type": "code",
      "source": [
        "trace = go.Pie(\n",
        "    labels = df_g1.AgeGroup,\n",
        "    values = df_g1.Revenue,\n",
        "    textinfo = 'label+percent', # text 값 형식\n",
        "    insidetextorientation='tangential',   # testinfo 타입\n",
        "    hole = 0.4  # 원 중심부 구멍 크기\n",
        ")\n",
        "\n",
        "data = [trace]\n",
        "\n",
        "layout = go.Layout(title = 'Chapter 2.3 - Pie Chart Split')\n",
        "\n",
        "fig = go.Figure(data, layout)\n",
        "fig.show()"
      ],
      "metadata": {
        "id": "1mjhyRN7mZQZ"
      },
      "execution_count": null,
      "outputs": []
    },
    {
      "cell_type": "markdown",
      "source": [
        "### box plot"
      ],
      "metadata": {
        "id": "XdzQabPMo9Jb"
      }
    },
    {
      "cell_type": "code",
      "source": [
        "df_g = df[df.year == '2020'].loc[:, ['Region', 'Revenue']].copy()\n",
        "\n",
        "regions = list(df_g.Region.unique())\n",
        "regions.sort()"
      ],
      "metadata": {
        "id": "c0FV5DB4mZNz"
      },
      "execution_count": null,
      "outputs": []
    },
    {
      "cell_type": "code",
      "source": [
        "trace = []\n",
        "\n",
        "for region in regions:\n",
        "    tmp = df_g[df_g.Region == region]\n",
        "    trace.append(go.Box(\n",
        "        y = tmp.Revenue,\n",
        "        name = region\n",
        "    ))\n",
        "\n",
        "data = trace\n",
        "\n",
        "layout = go.Layout(\n",
        "    title = 'Chapter 3.1 - Box Plot'\n",
        ")\n",
        "\n",
        "fig = go.Figure(data, layout)\n",
        "\n",
        "fig.show()"
      ],
      "metadata": {
        "id": "Gg5Q6A_dmZLt"
      },
      "execution_count": null,
      "outputs": []
    },
    {
      "cell_type": "markdown",
      "source": [
        "### Histogram"
      ],
      "metadata": {
        "id": "FcBANEUOpXRc"
      }
    },
    {
      "cell_type": "code",
      "source": [
        "df_g= df[df.year == '2020'].loc[:, ['AgeGroup', 'Quantity']].copy()\n",
        "\n",
        "ages = list(df_g.AgeGroup.unique())\n",
        "\n",
        "ages.sort()"
      ],
      "metadata": {
        "id": "styY9Jj7pW5l"
      },
      "execution_count": null,
      "outputs": []
    },
    {
      "cell_type": "markdown",
      "source": [
        "|Options|내용|\n",
        "|----|-----|\n",
        "|True|동일한 행 내의 처음 그려진 그래프의 Y축 값을 공유|\n",
        "|'columns'|동일한 열 내의 처음 그려진 그래프의 Y축 값을 공유|\n",
        "|'all'|모든 그래프가 처음 그려진 그래프 Y축값을 공유|"
      ],
      "metadata": {
        "id": "Fpqxm7ktqMRQ"
      }
    },
    {
      "cell_type": "code",
      "source": [
        "df_g.columns"
      ],
      "metadata": {
        "id": "aw7vgDoeY0gx"
      },
      "execution_count": null,
      "outputs": []
    },
    {
      "cell_type": "code",
      "source": [
        "fig = make_subplots(rows = 2, cols = 3, shared_yaxes = 'all')\n",
        "\n",
        "traces = []\n",
        "\n",
        "for age in ages:\n",
        "    trace.append(go.Histogram(x = df_g[df_g.AgeGroup == age]['Quantity'], name = age))\n",
        "\n",
        "fig.append_trace(trace[0], 1, 1)\n",
        "fig.append_trace(trace[1], 1, 2)\n",
        "fig.append_trace(trace[2], 1, 3)\n",
        "fig.append_trace(trace[3], 2, 1)\n",
        "fig.append_trace(trace[4], 2, 2)\n",
        "\n",
        "fig.update_layout(title = 'Chapter 3.2 - Histogram')\n",
        "\n",
        "fig.show()"
      ],
      "metadata": {
        "id": "NJjZ3N1HmZJF"
      },
      "execution_count": null,
      "outputs": []
    },
    {
      "cell_type": "markdown",
      "source": [
        "### Error Bar\n",
        "\n",
        "- 표준편차 나태날 때 주로 사용"
      ],
      "metadata": {
        "id": "Rrf9bCXOsBNm"
      }
    },
    {
      "cell_type": "code",
      "source": [
        "df1 = df[(df.Region == 'Asia') & (df.Category == 'Foods')].copy()"
      ],
      "metadata": {
        "id": "VVjgBGnXmZGk"
      },
      "execution_count": null,
      "outputs": []
    },
    {
      "cell_type": "code",
      "source": [
        "df_g = df1.loc[:, ['Channel', 'year', 'Revenue']].copy()\n",
        "\n",
        "g_mean = df_g.groupby(['Channel', 'year'], as_index = False).mean()\n",
        "g_std = df_g.groupby(['Channel', 'year'], as_index = False).std()\n",
        "g_n = df_g.groupby(['Channel', 'year'], as_index = False).count()\n",
        "df_g1 = pd.concat([g_mean.reset_index(drop = True),\n",
        "                   g_std['Revenue'].reset_index(drop = True),\n",
        "                   g_n.Revenue.reset_index(drop = True)],\n",
        "                  axis = 1)\n",
        "\n",
        "df_g1.columns = ['Channel', 'year', 'mean', 'sd', 'n']"
      ],
      "metadata": {
        "id": "FrP6Ed5umZEG"
      },
      "execution_count": null,
      "outputs": []
    },
    {
      "cell_type": "code",
      "source": [
        "df_g2 = df_g1[df_g1['Channel'] == 'Offline'].copy()\n",
        "\n",
        "trace = go.Scatter(x = df_g2.year,\n",
        "                   y = df_g2['mean'],\n",
        "                   error_y = dict(type = 'data',\n",
        "                                  array = df_g2['sd']),\n",
        "                   name = 'Offline')\n",
        "\n",
        "\n",
        "data = [trace]\n",
        "\n",
        "layout = go.Layout(title = 'Chapter 3.3 - Scatter & Error Bar (Offline)',\n",
        "                   xaxis = dict(title = 'Year'),\n",
        "                   yaxis = dict(title = 'Revenue (mean)'))\n",
        "\n",
        "fig = go.Figure(data, layout)\n",
        "\n",
        "fig.show()"
      ],
      "metadata": {
        "id": "XwtclxTusnhp"
      },
      "execution_count": null,
      "outputs": []
    },
    {
      "cell_type": "markdown",
      "source": [
        "#### Bar Plot을 이용해 구현"
      ],
      "metadata": {
        "id": "ITAgVPxhzlB3"
      }
    },
    {
      "cell_type": "code",
      "source": [
        "df_g1['lower'] = df_g1['mean'] - df_g1['sd']\n",
        "df_g1['upper'] = df_g1['mean'] + df_g1['sd']\n",
        "\n",
        "import math\n",
        "\n",
        "ymax = math.ceil(df_g1['upper'].max() * 1.05)\n",
        "ymin = math.ceil(df_g1['lower'].max() * 0.95)"
      ],
      "metadata": {
        "id": "0C3l0m-RsngB"
      },
      "execution_count": null,
      "outputs": []
    },
    {
      "cell_type": "code",
      "source": [
        "# hover, text 입력 -> 평균값(하한값, 상한값)\n",
        "\n",
        "df_g1['text'] = df_g1.apply(lambda row: f\"{row['mean']/1000:.2f}K ({row['lower']/1000:.2f}K, {row['upper']/1000:.2f}K)\", axis=1)\n",
        "df_g1.head(3)"
      ],
      "metadata": {
        "id": "jG587KVasnbt"
      },
      "execution_count": null,
      "outputs": []
    },
    {
      "cell_type": "code",
      "source": [
        "channels = list(df_g1['Channel'].unique())\n",
        "\n",
        "traces = []\n",
        "\n",
        "for channel in channels:\n",
        "    dat = df_g1[df_g1['Channel'] == channel]\n",
        "    traces.append(go.Bar(\n",
        "        x = dat.year,\n",
        "        y = dat['mean'],\n",
        "        error_y = dict(type = 'data',\n",
        "                       array = dat['sd']),\n",
        "        text = dat['text'], # hover text 활성화\n",
        "        name = channel\n",
        "    ))\n",
        "\n",
        "data = traces\n",
        "\n",
        "layout = go.Layout(\n",
        "    title = 'Chapter 3.3 - Scatter & Error Bar(Offline)',\n",
        "    xaxis = dict(title = 'Year'),\n",
        "    yaxis = dict(title = 'Revenue(Mean)',\n",
        "    range = [0, ymax]))\n",
        "\n",
        "fig = go.Figure(data, layout)\n",
        "\n",
        "fig.show()"
      ],
      "metadata": {
        "id": "Er5Mtki8snXv"
      },
      "execution_count": null,
      "outputs": []
    },
    {
      "cell_type": "code",
      "source": [
        "# 채널 참조리스트 생성\n",
        "channels = list(df_g1['Channel'].unique())\n",
        "# 빈 리스트 생성\n",
        "traces = []\n",
        "for channel in channels:\n",
        "    dat = df_g1[df_g1['Channel'] == channel]\n",
        "    traces.append(go.Bar(x = dat['year'],\n",
        "                         y = dat['mean'],\n",
        "                         error_y = dict(type = 'data',\n",
        "                                        symmetric = False,  # 비대칭 / True: 대칭(default)\n",
        "                                        array = dat['sd']\n",
        "                                       ),\n",
        "                         text = dat['text'],  # hover text 활성화\n",
        "                         hoverinfo = 'text',  # 입력한 text만 활성화\n",
        "                         name = channel\n",
        "                        ))\n",
        "data = traces\n",
        "fig = go.Figure(data)\n",
        "layout = go.Layout(title = 'Chapter 3.3 - Bar & Error Bar',\n",
        "                  xaxis = dict(title = 'Year'),\n",
        "                  yaxis = dict(title = 'Revenue (Mean)', range = [0, ymax]))\n",
        "fig = go.Figure(data, layout)\n",
        "fig.show()"
      ],
      "metadata": {
        "id": "TNY8YRr8snWF"
      },
      "execution_count": null,
      "outputs": []
    },
    {
      "cell_type": "markdown",
      "source": [
        "### Radar Chart\n",
        "\n",
        "- 다수의 평가항목이 있는 경우에 사용"
      ],
      "metadata": {
        "id": "sb5Ao9616wQq"
      }
    },
    {
      "cell_type": "code",
      "source": [
        "# 연도별 상품 매출액 합계\n",
        "df_g = df.loc[:,['Category','Revenue','year']].groupby(by = ['year','Category'], as_index=False).sum()\n",
        "# 매출액 별 순위 생성\n",
        "df_g['Rank'] = 0\n",
        "df_g.loc[df_g['Revenue']<10000000, 'Rank'] = 1\n",
        "df_g.loc[(df_g['Revenue']>=10000000) & (df_g['Revenue']<30000000), 'Rank'] = 2\n",
        "df_g.loc[(df_g['Revenue']>=30000000) & (df_g['Revenue']<50000000), 'Rank'] = 3\n",
        "df_g.loc[(df_g['Revenue']>=50000000) & (df_g['Revenue']<70000000), 'Rank'] = 4\n",
        "df_g.loc[(df_g['Revenue']>=70000000), 'Rank'] = 5\n",
        "df_g.head()"
      ],
      "metadata": {
        "id": "Wqgkr2706v9z"
      },
      "execution_count": null,
      "outputs": []
    },
    {
      "cell_type": "code",
      "source": [
        "d20 = df_g[df_g.year == '2020'].copy()\n",
        "trace = go.Scatterpolar(\n",
        "    r = list(d20.Rank),  # 평가 점수\n",
        "    theta = list(d20.Category),  # 평가 항목\n",
        "    fill = 'toself',  # 내부 음영\n",
        "    name = '2020'\n",
        ")\n",
        "\n",
        "data = [trace]\n",
        "\n",
        "layout = go.Layout(title = 'Chapter 3.4 - Radar Chart')\n",
        "\n",
        "fig = go.Figure(data, layout)\n",
        "\n",
        "fig.show()"
      ],
      "metadata": {
        "id": "36cdZrIm6v6e"
      },
      "execution_count": null,
      "outputs": []
    },
    {
      "cell_type": "code",
      "source": [
        "ranks = list(d20.Rank)\n",
        "ranks.append(ranks[0])\n",
        "thetas = list(d20.Category)\n",
        "thetas.append(thetas[0])\n",
        "\n",
        "print(ranks, '\\n', thetas)"
      ],
      "metadata": {
        "id": "LiYMU9_h6v3n"
      },
      "execution_count": null,
      "outputs": []
    },
    {
      "cell_type": "code",
      "source": [
        "years = list(df_g.year.unique())  # 연도 리스트 생성\n",
        "years.sort()                      # 오름차순 정렬\n",
        "traces = []\n",
        "\n",
        "for year in years:\n",
        "    dat = df_g[df_g.year == year]  # 특정 연도 추출\n",
        "    ranks = list(dat.Rank)         # 매출 순위 리스트\n",
        "    ranks.append(ranks[0])         # 마지막 연결부 추가\n",
        "    thetas = list(dat.Category)    # 상품 리스트\n",
        "    thetas.append(thetas[0])       # 마지막 연결부 추가\n",
        "    traces.append(go.Scatterpolar(r = ranks,        # 평가 점수\n",
        "                                  theta = thetas,   # 평가 항목\n",
        "                                  name = year))\n",
        "\n",
        "\n",
        "data = traces\n",
        "\n",
        "layout = go.Layout(\n",
        "    title = 'Chater 3.4 - Radar Chart',\n",
        "    legend_orientation = 'h',      # 범주 수평 나열\n",
        "    legend = dict(                 # 범주 위치 조정\n",
        "        x = 0.3,\n",
        "        y = -0.1\n",
        "    ))\n",
        "\n",
        "fig = go.Figure(data, layout)\n",
        "\n",
        "fig.show()"
      ],
      "metadata": {
        "id": "HnCiO8uJ6v03"
      },
      "execution_count": null,
      "outputs": []
    },
    {
      "cell_type": "markdown",
      "source": [
        "### Indicator\n",
        "\n",
        "- 기본값 대비 차이값을 지표값으로 표현"
      ],
      "metadata": {
        "id": "Ip62Z67Z_Z0F"
      }
    },
    {
      "cell_type": "markdown",
      "source": [
        "|옵션|내용|\n",
        "|-|-|\n",
        "|'gauge'|게이지 형식으로 출력 (디폴트값)|\n",
        "|'number'|주요값만 출력|\n",
        "|'delta'|차이값만 출력|\n",
        "|조합|'number + delta', 'gauge+number+delta'등 여러 조합 가능|"
      ],
      "metadata": {
        "id": "9NoKxPQw_lm4"
      }
    },
    {
      "cell_type": "code",
      "source": [
        "# 이익(Margin) 생성\n",
        "df['Margin'] = df['Revenue'] - df['Cost']\n",
        "# 2020년도 매출 및 이익\n",
        "df_g = df[df['year']=='2020'].copy()\n",
        "# 수치 출력 조정 (10만 단위)\n",
        "df_g1 = round(df_g.loc[:,['Revenue','Margin']].sum()/1000000,2)"
      ],
      "metadata": {
        "id": "7saG1hX96vyP"
      },
      "execution_count": null,
      "outputs": []
    },
    {
      "cell_type": "code",
      "source": [
        "trace1 = go.Indicator(value = 200,\n",
        "                      delta = dict(reference = 160),\n",
        "                      gauge = dict(axis = dict(visible = False)),\n",
        "                      domain = dict(row = 0, column = 0))\n",
        "trace2 = go.Indicator(value = 120,\n",
        "                      gauge = dict(shape = 'bullet'),\n",
        "                      domain = dict(x = [0.05, 0.5], y = [0.15, 0.35]))\n",
        "trace3 = go.Indicator(mode = 'number+delta',\n",
        "                      value = 300,\n",
        "                      domain = dict(row = 0, column = 1))\n",
        "trace4 = go.Indicator(mode = 'delta',\n",
        "                      value = 40,\n",
        "                      domain = dict(row = 1, column = 1))\n",
        "data = [trace1, trace2, trace3, trace4]\n",
        "layout = go.Layout(grid = {'rows': 2, 'columns': 2, 'pattern' : 'independent'},\n",
        "                   template = {'data' : {'indicator' :\n",
        "                                         [{'title' : {'text' : 'Speed'},\n",
        "                                           'mode' : 'number+delta+gauge',\n",
        "                                           'delta' : {'reference': 90}}]}})\n",
        "fig = go.Figure(data, layout)\n",
        "fig.show()"
      ],
      "metadata": {
        "id": "kpVhwowXsnTe"
      },
      "execution_count": null,
      "outputs": []
    },
    {
      "cell_type": "code",
      "source": [
        "values = df_g1['Revenue']\n",
        "deltas = df_g1['Revenue'] - df_g1['Margin']\n",
        "trace = go.Indicator(mode = 'number+delta',                           # 출력 방식\n",
        "                     value = values,                                  # 주요값 입력\n",
        "                     number = dict(prefix = '$',                      # 주요값 앞 문자열\n",
        "                                   suffix = 'M',                      # 주요값 뒤 문자열\n",
        "                                   valueformat = ',0f'),              # 값 형식\n",
        "                     delta = dict(reference = deltas,                 # 차이값 입력\n",
        "                                  valueformat = '.2f',                # 값 형식\n",
        "                                  relative = False,\n",
        "                                  increasing = dict(color = 'blue'),  # 증가 시 색상\n",
        "                                  position = 'top'))                  # 차이값 위치\n",
        "data = [trace]\n",
        "layout = go.Layout(title = 'Chatper 3.5 - Indicator',\n",
        "                   paper_bgcolor = \"white\")                           # 배경 흰색\n",
        "fig = go.Figure(data, layout)\n",
        "fig.show()"
      ],
      "metadata": {
        "id": "YD_DAZwiAyLa"
      },
      "execution_count": null,
      "outputs": []
    }
  ]
}