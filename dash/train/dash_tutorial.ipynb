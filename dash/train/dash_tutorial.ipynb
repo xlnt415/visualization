{
  "nbformat": 4,
  "nbformat_minor": 0,
  "metadata": {
    "colab": {
      "private_outputs": true,
      "provenance": [],
      "toc_visible": true,
      "authorship_tag": "ABX9TyOV2OGn7dTt6EsYnZtWEJJ6",
      "include_colab_link": true
    },
    "kernelspec": {
      "name": "python3",
      "display_name": "Python 3"
    },
    "language_info": {
      "name": "python"
    }
  },
  "cells": [
    {
      "cell_type": "markdown",
      "metadata": {
        "id": "view-in-github",
        "colab_type": "text"
      },
      "source": [
        "<a href=\"https://colab.research.google.com/github/xlnt415/visualization/blob/main/dash/dash_tutorial.ipynb\" target=\"_parent\"><img src=\"https://colab.research.google.com/assets/colab-badge.svg\" alt=\"Open In Colab\"/></a>"
      ]
    },
    {
      "cell_type": "code",
      "execution_count": null,
      "metadata": {
        "id": "n6cG-gboC0XD"
      },
      "outputs": [],
      "source": [
        "import plotly.express as px\n",
        "import plotly.graph_objects as go\n",
        "import seaborn as sns\n",
        "from plotly.subplots import make_subplots"
      ]
    },
    {
      "cell_type": "markdown",
      "source": [
        "[Plotly Tutorial - 파이썬 시각화의 끝판왕 마스터하기](https://wikidocs.net/book/8909)\n",
        "\n"
      ],
      "metadata": {
        "id": "FLlP0eAUDmGC"
      }
    },
    {
      "cell_type": "markdown",
      "source": [
        "## 기본 문법"
      ],
      "metadata": {
        "id": "0oWp69lSEGJ3"
      }
    },
    {
      "cell_type": "markdown",
      "source": [
        "### 그래프 사이즈 설정하기"
      ],
      "metadata": {
        "id": "E9Xmhpr8EJKu"
      }
    },
    {
      "cell_type": "code",
      "source": [
        "trace = go.Bar(\n",
        "    x = [1, 2, 3],\n",
        "    y = [1, 3 ,2]\n",
        ")\n",
        "\n",
        "data = [trace]\n",
        "\n",
        "layout = go.Layout(\n",
        "    width = 600,\n",
        "    height = 400\n",
        ")\n",
        "\n",
        "fig = go.Figure(data, layout)\n",
        "\n",
        "fig.show()"
      ],
      "metadata": {
        "id": "0yiHkPV0C6q6"
      },
      "execution_count": null,
      "outputs": []
    },
    {
      "cell_type": "markdown",
      "source": [
        "#### margin 설정\n",
        "\n",
        "\n",
        "<img src=\"https://wikidocs.net/images/page/185748/size_3.png\" width=\"400\" height=\"300\">"
      ],
      "metadata": {
        "id": "IQvLshCaE9Lf"
      }
    },
    {
      "cell_type": "code",
      "source": [
        "trace = go.Bar(\n",
        "    x=[1, 2, 3],\n",
        "    y=[1, 3, 2]\n",
        ")\n",
        "\n",
        "data = [trace]\n",
        "\n",
        "layout = go.Layout(\n",
        "    width=600,\n",
        "    height=400,\n",
        "    margin=dict(l=50, r=50, b=100, t=100),  # margin 속성 수정\n",
        "    # 백그라운드 칼라 지정 시 올바른 속성인 paper_bgcolor 사용\n",
        "    paper_bgcolor='LightSteelBlue'\n",
        ")\n",
        "\n",
        "fig = go.Figure(data=data, layout=layout)\n",
        "\n",
        "fig.show()"
      ],
      "metadata": {
        "id": "I-rO75U9C6tK"
      },
      "execution_count": null,
      "outputs": []
    },
    {
      "cell_type": "markdown",
      "source": [
        "### 타이틀 설정"
      ],
      "metadata": {
        "id": "BUsNOCV1GbLi"
      }
    },
    {
      "cell_type": "code",
      "source": [
        "trace = go.Bar(\n",
        "    x=[1, 2, 3],\n",
        "    y=[1, 3, 2]\n",
        ")\n",
        "\n",
        "data = [trace]\n",
        "\n",
        "layout = go.Layout(title = '제목 설정하기')\n",
        "\n",
        "fig = go.Figure(data, layout)\n",
        "\n",
        "fig.show()"
      ],
      "metadata": {
        "id": "mkwy5PvwC6vp"
      },
      "execution_count": null,
      "outputs": []
    },
    {
      "cell_type": "markdown",
      "source": [
        "### 위치 지정"
      ],
      "metadata": {
        "id": "ozmSoBdtHAa7"
      }
    },
    {
      "cell_type": "markdown",
      "source": [
        "<img src=\"https://wikidocs.net/images/page/185741/title_3.png\" width=\"400\" height=\"300\">"
      ],
      "metadata": {
        "id": "2TZX27E6IKMl"
      }
    },
    {
      "cell_type": "code",
      "source": [
        "trace = go.Bar(\n",
        "    x=[1, 2, 3],\n",
        "    y=[1, 3, 2]\n",
        ")\n",
        "\n",
        "data = [trace]\n",
        "\n",
        "layout = go.Layout(title={'text': '제목 설정하기_x', 'x': 0.5, 'y': 0.9, 'xanchor': 'center', 'yanchor': 'top'})\n",
        "\n",
        "fig = go.Figure(data, layout)\n",
        "\n",
        "fig.show()"
      ],
      "metadata": {
        "id": "P4TUHnSyC6x-"
      },
      "execution_count": null,
      "outputs": []
    },
    {
      "cell_type": "markdown",
      "source": [
        "#### 폰트 설정 추가\n",
        "\n",
        "[폰트 추가 설명](https://jigeumblog.tistory.com/39)"
      ],
      "metadata": {
        "id": "hgthiDSVJElU"
      }
    },
    {
      "cell_type": "code",
      "source": [
        "trace = go.Bar(\n",
        "    x=[1, 2, 3],\n",
        "    y=[1, 3, 2]\n",
        ")\n",
        "\n",
        "data = [trace]\n",
        "\n",
        "layout = go.Layout(\n",
        "    title={'text': '제목 설정하기_x', 'x': 0.5, 'y': 0.9, 'xanchor': 'center', 'yanchor': 'top'},\n",
        "    title_font_size = 25,\n",
        "    title_font_color = 'red',\n",
        "    title_font_family = 'Times')\n",
        "\n",
        "fig = go.Figure(data, layout)\n",
        "\n",
        "fig.show()"
      ],
      "metadata": {
        "id": "Awdm_bV-C60a"
      },
      "execution_count": null,
      "outputs": []
    },
    {
      "cell_type": "markdown",
      "source": [
        "### 축 타이틀 설정"
      ],
      "metadata": {
        "id": "mYHdGBGzJ7U5"
      }
    },
    {
      "cell_type": "code",
      "source": [
        "df = px.data.tips()\n",
        "\n",
        "x = df.total_bill\n",
        "y = df.tip"
      ],
      "metadata": {
        "id": "HzwnGfj_J66o"
      },
      "execution_count": null,
      "outputs": []
    },
    {
      "cell_type": "code",
      "source": [
        "trace = go.Scatter(\n",
        "    x = x,\n",
        "    y = y,\n",
        "    mode = 'markers'\n",
        ")\n",
        "\n",
        "data = [trace]\n",
        "\n",
        "layout = go.Layout(\n",
        "    xaxis=dict(title='Total Bill ($)'),  # x축 제목 설정\n",
        "    yaxis=dict(title='Tip ($)')          # y축 제목 설정\n",
        ")\n",
        "\n",
        "fig = go.Figure(data, layout)\n",
        "\n",
        "fig.show()"
      ],
      "metadata": {
        "id": "OU1qI7ITJ64j"
      },
      "execution_count": null,
      "outputs": []
    },
    {
      "cell_type": "markdown",
      "source": [
        "#### 축 타이틀 스타일 설정"
      ],
      "metadata": {
        "id": "0eHyclQSLUz4"
      }
    },
    {
      "cell_type": "code",
      "source": [
        "trace = go.Scatter(\n",
        "    x = x,\n",
        "    y = y,\n",
        "    mode = 'markers'\n",
        ")\n",
        "\n",
        "data = [trace]\n",
        "\n",
        "layout = go.Layout(\n",
        "    xaxis=dict(\n",
        "        title='Total Bill ($)',\n",
        "        titlefont=dict(size=30, color='crimson', family='Courier')  # x축 타이틀 스타일 설정\n",
        "    ),\n",
        "    yaxis=dict(\n",
        "        title='Tip ($)',\n",
        "        titlefont=dict(size=30, color='crimson', family='Courier')  # y축 타이틀 스타일 설정\n",
        "    )\n",
        ")\n",
        "\n",
        "# Figure 객체 생성 후 데이터 삽입 및 레이아웃 설정\n",
        "fig = go.Figure(data, layout)\n",
        "\n",
        "# 그래프 출력\n",
        "fig.show()\n"
      ],
      "metadata": {
        "id": "Q4LtZXtNJ62I"
      },
      "execution_count": null,
      "outputs": []
    },
    {
      "cell_type": "markdown",
      "source": [
        "#### 축 타이틀 위치 지정 방법"
      ],
      "metadata": {
        "id": "k7Nbv89xQLwi"
      }
    },
    {
      "cell_type": "code",
      "source": [
        "trace = go.Scatter(\n",
        "    x = x,\n",
        "    y = y,\n",
        "    mode = 'markers'\n",
        ")\n",
        "\n",
        "data = [trace]\n",
        "\n",
        "layout = go.Layout(\n",
        "    xaxis=dict(\n",
        "        title='Total Bill ($)', #title=None : 제목삭제\n",
        "        titlefont=dict(size=30, color='crimson', family='Courier'),\n",
        "        title_standoff = 100\n",
        "    ),\n",
        "    yaxis=dict(\n",
        "        title='Tip ($)',\n",
        "        titlefont=dict(size=30, color='crimson', family='Courier'),\n",
        "        title_standoff = 100  # title_standoff : 축 타이틀과 Trace 사이의 거리, 거리를 키울수록 Trace의 크기가 줄어듭니다.\n",
        "    )\n",
        ")\n",
        "\n",
        "# Figure 객체 생성 후 데이터 삽입 및 레이아웃 설정\n",
        "fig = go.Figure(data, layout)\n",
        "\n",
        "# 그래프 출력\n",
        "fig.show()\n"
      ],
      "metadata": {
        "id": "ykdBX-xJJ60P"
      },
      "execution_count": null,
      "outputs": []
    },
    {
      "cell_type": "markdown",
      "source": [
        "### 축 범위 지정"
      ],
      "metadata": {
        "id": "Se1dEpisUlo9"
      }
    },
    {
      "cell_type": "markdown",
      "source": [
        "<img src=\"https://wikidocs.net/images/page/185955/range_1.png\" width=\"400\" height=\"300\">"
      ],
      "metadata": {
        "id": "J9Pj9y01UqOR"
      }
    },
    {
      "cell_type": "code",
      "source": [
        "# 데이터 로드\n",
        "df = px.data.iris()\n",
        "\n",
        "# 종 별로 데이터 분리\n",
        "setosa = df[df['species'] == 'setosa']\n",
        "versicolor = df[df['species'] == 'versicolor']\n",
        "virginica = df[df['species'] == 'virginica']\n",
        "\n",
        "# 서브플롯 구조 생성\n",
        "fig = make_subplots(rows=1, cols=3, subplot_titles=('setosa', 'versicolor', 'virginica'))\n",
        "\n",
        "# 데이터 객체 미리 정의\n",
        "traces = [\n",
        "    go.Scatter(x=setosa['sepal_width'], y=setosa['sepal_length'], mode='markers', name='setosa'),\n",
        "    go.Scatter(x=versicolor['sepal_width'], y=versicolor['sepal_length'], mode='markers', name='versicolor'),\n",
        "    go.Scatter(x=virginica['sepal_width'], y=virginica['sepal_length'], mode='markers', name='virginica')\n",
        "]\n",
        "\n",
        "# 정의된 데이터 객체를 각 서브플롯에 추가\n",
        "for i, trace in enumerate(traces, 1):\n",
        "    fig.add_trace(trace, row=1, col=i)\n",
        "\n",
        "fig.update_layout(go.Layout(title={'text': 'iris', 'x': 0.5, 'y': 0.9, 'xanchor': 'center', 'yanchor': 'top'}))\n",
        "\n",
        "# 축 범위 업데이트 (필요한 경우)\n",
        "fig.update_xaxes(range=[0, 5])\n",
        "fig.update_yaxes(range=[0, 10])\n",
        "\n",
        "# 그래프 표시\n",
        "fig.show()"
      ],
      "metadata": {
        "id": "kOlfyTn0J6w0"
      },
      "execution_count": null,
      "outputs": []
    },
    {
      "cell_type": "markdown",
      "source": [
        "### tick(축) 위치 조정"
      ],
      "metadata": {
        "id": "aANoj78roIS0"
      }
    },
    {
      "cell_type": "code",
      "source": [
        "df = px.data.iris()"
      ],
      "metadata": {
        "id": "5xAfkH-xJ6tP"
      },
      "execution_count": null,
      "outputs": []
    },
    {
      "cell_type": "code",
      "source": [
        "# 종 별로 데이터 분리\n",
        "setosa = df[df['species'] == 'setosa']\n",
        "versicolor = df[df['species'] == 'versicolor']\n",
        "virginica = df[df['species'] == 'virginica']\n",
        "\n",
        "# 서브플롯 구조 생성\n",
        "fig = make_subplots(rows=1, cols=3, subplot_titles=('setosa', 'versicolor', 'virginica'))\n",
        "\n",
        "# 데이터 객체 미리 정의\n",
        "traces = [\n",
        "    go.Scatter(x=setosa['sepal_width'], y=setosa['sepal_length'], mode='markers', name='setosa'),\n",
        "    go.Scatter(x=versicolor['sepal_width'], y=versicolor['sepal_length'], mode='markers', name='versicolor'),\n",
        "    go.Scatter(x=virginica['sepal_width'], y=virginica['sepal_length'], mode='markers', name='virginica')\n",
        "]\n",
        "\n",
        "# 정의된 데이터 객체를 각 서브플롯에 추가\n",
        "for i, trace in enumerate(traces, 1):\n",
        "    fig.add_trace(trace, row=1, col=i)\n",
        "\n",
        "\n",
        "# 레이아웃 객체 생성\n",
        "# layout = go.Layout(\n",
        "#     xaxis=dict(\n",
        "#         title=\"Sepal Width\",\n",
        "#         ticks=\"outside\",\n",
        "#         tickwidth=2,\n",
        "#         tickcolor='crimson',\n",
        "#         ticklen=10\n",
        "#     ),\n",
        "#     yaxis=dict(\n",
        "#         title=\"Sepal Length\",\n",
        "#         ticks=\"outside\",\n",
        "#         tickwidth=2,\n",
        "#         tickcolor='crimson',\n",
        "#         ticklen=10\n",
        "#     ),\n",
        "#     legend_title=\"Species\"\n",
        "# )\n",
        "\n",
        "# Figure 객체 생성 및 데이터 추가, 레이아웃 설정 적용\n",
        "# fig = go.Figure(data=[trace1, trace2, trace3], layout=layout)\n",
        "# 눈금 생성 + 눈금 스타일 설정\n",
        "fig.update_xaxes(ticks=\"outside\", tickwidth=2, tickcolor='crimson', ticklen=10)\n",
        "fig.update_yaxes(ticks=\"outside\", tickwidth=2, tickcolor='crimson', ticklen=10)\n",
        "\n",
        "# 서브플롯 제목 설정\n",
        "fig.update_layout(\n",
        "    xaxis_title=\"Sepal Width\",\n",
        "    yaxis_title=\"Sepal Length\",\n",
        "    legend_title=\"Species\"\n",
        ")\n",
        "\n",
        "# 그래프 표시\n",
        "fig.show()\n"
      ],
      "metadata": {
        "id": "qphxjxZZJ6pU"
      },
      "execution_count": null,
      "outputs": []
    },
    {
      "cell_type": "markdown",
      "source": [
        "### 수동 지정"
      ],
      "metadata": {
        "id": "8-dBKMS0sCzI"
      }
    },
    {
      "cell_type": "code",
      "source": [
        "setosa = df[df['species'] == 'setosa']\n",
        "versicolor = df[df['species'] == 'versicolor']\n",
        "virginica = df[df['species'] == 'virginica']\n",
        "\n",
        "# 서브플롯 구조 생성\n",
        "fig = make_subplots(rows=1, cols=3, subplot_titles=('setosa', 'versicolor', 'virginica'))\n",
        "\n",
        "# 데이터 객체 미리 정의\n",
        "traces = [\n",
        "    go.Scatter(x=setosa['sepal_width'], y=setosa['sepal_length'], mode='markers', name='setosa'),\n",
        "    go.Scatter(x=versicolor['sepal_width'], y=versicolor['sepal_length'], mode='markers', name='versicolor'),\n",
        "    go.Scatter(x=virginica['sepal_width'], y=virginica['sepal_length'], mode='markers', name='virginica')\n",
        "]\n",
        "\n",
        "# 정의된 데이터 객체를 각 서브플롯에 추가\n",
        "for i, trace in enumerate(traces, 1):\n",
        "    fig.add_trace(trace, row=1, col=i)\n",
        "\n",
        "fig.update_yaxes(tickvals = [5.1, 5.9, 6.3, 7.5])\n",
        "\n"
      ],
      "metadata": {
        "id": "ixDaTIzQsEUD"
      },
      "execution_count": null,
      "outputs": []
    },
    {
      "cell_type": "markdown",
      "source": [
        "### 여러개 그래프 겹쳐 그리기"
      ],
      "metadata": {
        "id": "V6h6ArcNswhL"
      }
    },
    {
      "cell_type": "code",
      "source": [
        "#데이터 생성\n",
        "import numpy as np\n",
        "np.random.seed(1)\n",
        "\n",
        "N = 100\n",
        "random_x = np.linspace(0, 1, N)\n",
        "random_y0 = np.random.randn(N) + 5\n",
        "random_y1 = np.random.randn(N)\n",
        "random_y2 = np.random.randn(N) - 5\n",
        "\n",
        "# Base Figure 생성\n",
        "fig = go.Figure()\n",
        "\n",
        "# 추가 할 그래프 그리기\n",
        "fig.add_trace(go.Scatter(x=random_x, y=random_y0,\n",
        "                    mode='lines',\n",
        "                    name='lines'))\n",
        "fig.add_trace(go.Scatter(x=random_x, y=random_y1,\n",
        "                    mode='lines+markers',\n",
        "                    name='lines+markers'))\n",
        "fig.add_trace(go.Scatter(x=random_x, y=random_y2,\n",
        "                    mode='markers',\n",
        "                    name='markers'))\n",
        "\n",
        "fig.show()"
      ],
      "metadata": {
        "id": "TJvHrmfrJ6nM"
      },
      "execution_count": null,
      "outputs": []
    },
    {
      "cell_type": "markdown",
      "source": [
        "### 그래프 나눠 그리기"
      ],
      "metadata": {
        "id": "rMyJ3RaFtdu3"
      }
    },
    {
      "cell_type": "markdown",
      "source": [
        "<img src=\"https://wikidocs.net/images/page/186272/devide_2.png\" width=\"400\" height=\"300\">"
      ],
      "metadata": {
        "id": "sNoCAYwZtwy3"
      }
    },
    {
      "cell_type": "code",
      "source": [
        "fig = make_subplots(rows= 1, cols= 2)\n",
        "\n",
        "\n",
        "fig.add_trace(\n",
        "    go.Scatter(x=[1, 2, 3], y=[4, 5, 6]),\n",
        "    row=1, col=1\n",
        ")\n",
        "fig.add_trace(\n",
        "    go.Scatter(x=[20, 30, 40], y=[50, 60, 70]),\n",
        "    row=1, col=2\n",
        ")\n",
        "fig.show()"
      ],
      "metadata": {
        "id": "d5xxQsCrJ6ke"
      },
      "execution_count": null,
      "outputs": []
    },
    {
      "cell_type": "code",
      "source": [
        "# 나눠서 그릴 공간 생성\n",
        "fig = make_subplots(rows=2, cols=2)\n",
        "\n",
        "# 각 공간에 Trace 채워넣기\n",
        "fig.add_trace(go.Scatter(x=[1, 2, 3], y=[4, 5, 6]),\n",
        "              row=1, col=1)\n",
        "\n",
        "fig.add_trace(go.Scatter(x=[20, 30, 40], y=[50, 60, 70]),\n",
        "              row=1, col=2)\n",
        "\n",
        "fig.add_trace(go.Scatter(x=[300, 400, 500], y=[600, 700, 800]),\n",
        "              row=2, col=1)\n",
        "\n",
        "fig.add_trace(go.Scatter(x=[4000, 5000, 6000], y=[7000, 8000, 9000]),\n",
        "              row=2, col=2)\n",
        "\n",
        "fig.show()"
      ],
      "metadata": {
        "id": "rfIVP5yYJ6iN"
      },
      "execution_count": null,
      "outputs": []
    },
    {
      "cell_type": "markdown",
      "source": [
        "#### 각 그래프 별 서브 타이틀 달기"
      ],
      "metadata": {
        "id": "905nD_hptptW"
      }
    },
    {
      "cell_type": "code",
      "source": [
        "# 나눠서 그릴 공간 생성\n",
        "fig = make_subplots(\n",
        "    rows=2, cols=2,\n",
        "    subplot_titles=(\"Plot 1\", \"Plot 2\", \"Plot 3\", \"Plot 4\")) # 각 공간별 서브타ㅣ틀을 순서대로 튜플형태로 넣어줌\n",
        "\n",
        "# 각 공간에 Trace 채워넣기\n",
        "fig.add_trace(go.Scatter(x=[1, 2, 3], y=[4, 5, 6]),\n",
        "              row=1, col=1)\n",
        "\n",
        "fig.add_trace(go.Scatter(x=[20, 30, 40], y=[50, 60, 70]),\n",
        "              row=1, col=2)\n",
        "\n",
        "fig.add_trace(go.Scatter(x=[300, 400, 500], y=[600, 700, 800]),\n",
        "              row=2, col=1)\n",
        "\n",
        "fig.add_trace(go.Scatter(x=[4000, 5000, 6000], y=[7000, 8000, 9000]),\n",
        "              row=2, col=2)\n",
        "\n",
        "fig.update_layout(title_text=\"Multiple Subplots with Titles\")\n",
        "\n",
        "fig.show()"
      ],
      "metadata": {
        "id": "i80RB-hMJ6fv"
      },
      "execution_count": null,
      "outputs": []
    },
    {
      "cell_type": "markdown",
      "source": [
        "#### 각 공간별 크기 비율 지정"
      ],
      "metadata": {
        "id": "GRP_ExBXuj1J"
      }
    },
    {
      "cell_type": "markdown",
      "source": [
        "\n",
        "\n",
        "```\n",
        "# 사용 함수\n",
        "fig.subplot_titles()\n",
        "\n",
        "# 함수 input 내용\n",
        "column_widths = [ , ] 리스트 형태로 컬럼 별 길이 비율을 넣습니다.\n",
        "row_heights = [ , ] 리스트 형태로 행 별 길이 비율을 넣습니다.\n",
        "```\n",
        "\n"
      ],
      "metadata": {
        "id": "orkwC1Gsuugu"
      }
    },
    {
      "cell_type": "code",
      "source": [
        "# 나눠서 그릴 공간 생성\n",
        "fig = make_subplots(\n",
        "    rows=2, cols=2,\n",
        "    column_widths=[0.7, 0.3], row_heights =[0.7, 0.3]) # 칼럼 별 길이 비율을 넣음\n",
        "\n",
        "# 각 공간에 Trace 채워넣기\n",
        "fig.add_trace(go.Scatter(x=[1, 2, 3], y=[4, 5, 6]),\n",
        "              row=1, col=1)\n",
        "\n",
        "fig.add_trace(go.Scatter(x=[20, 30, 40], y=[50, 60, 70]),\n",
        "              row=1, col=2)\n",
        "\n",
        "fig.add_trace(go.Scatter(x=[300, 400, 500], y=[600, 700, 800]),\n",
        "              row=2, col=1)\n",
        "\n",
        "fig.add_trace(go.Scatter(x=[4000, 5000, 6000], y=[7000, 8000, 9000]),\n",
        "              row=2, col=2)\n",
        "\n",
        "fig.show()"
      ],
      "metadata": {
        "id": "cfbn0cwDunhv"
      },
      "execution_count": null,
      "outputs": []
    },
    {
      "cell_type": "markdown",
      "source": [
        "#### 공간 별 축 공유"
      ],
      "metadata": {
        "id": "So-P_AKRvNfC"
      }
    },
    {
      "cell_type": "markdown",
      "source": [
        "\n",
        "\n",
        "```\n",
        "fig.subplot_titles(row= 행 index, col= 열 index,\n",
        "shared_xaxes=(True or False), shared_yaxes=(True or False)\n",
        "```\n",
        "\n"
      ],
      "metadata": {
        "id": "r0UREDHqvWHB"
      }
    },
    {
      "cell_type": "code",
      "source": [
        "from plotly.subplots import make_subplots\n",
        "import plotly.graph_objects as go\n",
        "\n",
        "# 나눠서 그릴 공간 생성\n",
        "fig = make_subplots(\n",
        "    rows=3, cols=1,\n",
        "    shared_xaxes=True)\n",
        "\n",
        "# 각 공간에 Trace 채워넣기\n",
        "fig.add_trace(go.Scatter(x=[0, 1, 2], y=[10, 11, 12]),\n",
        "              row=3, col=1)\n",
        "\n",
        "fig.add_trace(go.Scatter(x=[2, 3, 4], y=[100, 110, 120]),\n",
        "              row=2, col=1)\n",
        "\n",
        "fig.add_trace(go.Scatter(x=[3, 4, 5], y=[1000, 1100, 1200]),\n",
        "              row=1, col=1)\n",
        "\n",
        "# Figure 크기, 타이틀 설정\n",
        "fig.update_layout(height=600, width=600,\n",
        "                    title_text=\"Stacked Subplots with Shared X-Axes\")\n",
        "\n",
        "fig.show()"
      ],
      "metadata": {
        "id": "ZNs0uoGiungJ"
      },
      "execution_count": null,
      "outputs": []
    },
    {
      "cell_type": "markdown",
      "source": [
        "#### 분할 공간 병합"
      ],
      "metadata": {
        "id": "pP2CEpo5wB5e"
      }
    },
    {
      "cell_type": "markdown",
      "source": [
        "\n",
        "\n",
        "```\n",
        "fig.subplot_titles(row= 행 index, col= 열 index,\n",
        "specs = [원하는 구조 입력])\n",
        "```\n",
        "\n"
      ],
      "metadata": {
        "id": "T6_-fxPQwOSq"
      }
    },
    {
      "cell_type": "code",
      "source": [
        "# 나눠서 그릴 공간 생성\n",
        "fig = make_subplots(\n",
        "    rows=2, cols=2,\n",
        "    specs=[[{}, {}],  # 1행 : [[{}, {}] 모두 사용하기 때문에 Trace를 뜻하는 {} 로 1,2열 모두 표시\n",
        "    [{\"colspan\": 2}, None]], # 2행 : 1열을 2열까지 병합하기에 1열 자리에 {\"colspan\": 2} 넣고 2열 자리는 None 이라고 표시\n",
        "           subplot_titles=(\"First Subplot\",\"Second Subplot\", \"Third Subplot\"))\n",
        "\n",
        "# 각 공간에 Trace 채워넣기\n",
        "fig.add_trace(go.Scatter(x=[1, 2], y=[1, 2]),\n",
        "                 row=1, col=1)\n",
        "\n",
        "fig.add_trace(go.Scatter(x=[1, 2], y=[1, 2]),\n",
        "                 row=1, col=2)\n",
        "fig.add_trace(go.Scatter(x=[1, 2, 3], y=[2, 1, 2]),\n",
        "                 row=2, col=1)\n",
        "\n",
        "# Figure 타이틀 설정\n",
        "fig.update_layout(showlegend=False, title_text=\"Specs with Subplot Title\")\n",
        "\n",
        "fig.show()"
      ],
      "metadata": {
        "id": "3CSIXfGhundW"
      },
      "execution_count": null,
      "outputs": []
    },
    {
      "cell_type": "markdown",
      "source": [
        "### 이중 Y축 표시하기"
      ],
      "metadata": {
        "id": "2TrXKzsgSZt1"
      }
    },
    {
      "cell_type": "code",
      "source": [
        "fig = make_subplots(specs=[[{\"secondary_y\": True}]])\n",
        "\n",
        "# Add traces\n",
        "fig.add_trace(\n",
        "    go.Scatter(x=[1, 2, 3], y=[40, 50, 60], name=\"yaxis data\"),\n",
        "    secondary_y=False,\n",
        ")\n",
        "\n",
        "fig.add_trace(\n",
        "    go.Scatter(x=[2, 3, 4], y=[4, 5, 6], name=\"yaxis2 data\"),\n",
        "    secondary_y=True,\n",
        ")\n",
        "\n",
        "# Add figure title\n",
        "fig.update_layout(\n",
        "    title_text=\"Double Y Axis Example\"\n",
        ")\n",
        "\n",
        "# Set x-axis title\n",
        "fig.update_xaxes(title_text=\"xaxis title\")\n",
        "\n",
        "# Set y-axes titles\n",
        "fig.update_yaxes(title_text=\"<b>primary</b> yaxis title\", secondary_y=False)\n",
        "fig.update_yaxes(title_text=\"<b>secondary</b> yaxis title\", secondary_y=True)\n",
        "\n",
        "fig.show()"
      ],
      "metadata": {
        "id": "QWIegSm9unaf"
      },
      "execution_count": null,
      "outputs": []
    },
    {
      "cell_type": "code",
      "source": [
        "# Create figure with secondary y-axis\n",
        "fig = make_subplots(rows=2, cols=2,\n",
        "                    specs=[[{\"secondary_y\": True}, {\"secondary_y\": True}],\n",
        "                           [{\"secondary_y\": True}, {\"secondary_y\": True}]])\n",
        "\n",
        "# Top left\n",
        "fig.add_trace(\n",
        "    go.Scatter(x=[1, 2, 3], y=[2, 52, 62], name=\"yaxis data\"),\n",
        "    row=1, col=1, secondary_y=False)\n",
        "\n",
        "fig.add_trace(\n",
        "    go.Scatter(x=[1, 2, 3], y=[40, 50, 60], name=\"yaxis2 data\"),\n",
        "    row=1, col=1, secondary_y=True,\n",
        ")\n",
        "\n",
        "# Top right\n",
        "fig.add_trace(\n",
        "    go.Scatter(x=[1, 2, 3], y=[2, 52, 62], name=\"yaxis3 data\"),\n",
        "    row=1, col=2, secondary_y=False,\n",
        ")\n",
        "\n",
        "fig.add_trace(\n",
        "    go.Scatter(x=[1, 2, 3], y=[40, 50, 60], name=\"yaxis4 data\"),\n",
        "    row=1, col=2, secondary_y=True,\n",
        ")\n",
        "\n",
        "# Bottom left\n",
        "fig.add_trace(\n",
        "    go.Scatter(x=[1, 2, 3], y=[2, 52, 62], name=\"yaxis5 data\"),\n",
        "    row=2, col=1, secondary_y=False,\n",
        ")\n",
        "\n",
        "fig.add_trace(\n",
        "    go.Scatter(x=[1, 2, 3], y=[40, 50, 60], name=\"yaxis6 data\"),\n",
        "    row=2, col=1, secondary_y=True,\n",
        ")\n",
        "\n",
        "# Bottom right\n",
        "fig.add_trace(\n",
        "    go.Scatter(x=[1, 2, 3], y=[2, 52, 62], name=\"yaxis7 data\"),\n",
        "    row=2, col=2, secondary_y=False,\n",
        ")\n",
        "\n",
        "fig.add_trace(\n",
        "    go.Scatter(x=[1, 2, 3], y=[40, 50, 60], name=\"yaxis8 data\"),\n",
        "    row=2, col=2, secondary_y=True,\n",
        ")\n",
        "\n",
        "fig.show()"
      ],
      "metadata": {
        "id": "xj106atjunWv"
      },
      "execution_count": null,
      "outputs": []
    },
    {
      "cell_type": "markdown",
      "source": [
        "### 범례(legend) 지정"
      ],
      "metadata": {
        "id": "RFN8y8aRXjUW"
      }
    },
    {
      "cell_type": "code",
      "source": [
        "df= px.data.tips()"
      ],
      "metadata": {
        "id": "GTX7160junT2"
      },
      "execution_count": null,
      "outputs": []
    },
    {
      "cell_type": "code",
      "source": [
        "Female = df.loc[df.sex == \"Female\", :]\n",
        "Male = df.loc[df.sex == 'Male', :]"
      ],
      "metadata": {
        "id": "yoRnJZt4C69o"
      },
      "execution_count": null,
      "outputs": []
    },
    {
      "cell_type": "code",
      "source": [
        "sexs = list(df.sex.unique())"
      ],
      "metadata": {
        "id": "14GNDEZBYGYL"
      },
      "execution_count": null,
      "outputs": []
    },
    {
      "cell_type": "code",
      "source": [
        "# 데이터 객체 미리 정의\n",
        "female_trace = go.Scatter(\n",
        "    x=Female['total_bill'],\n",
        "    y=Female['tip'],\n",
        "    mode='markers',\n",
        "    name=\"Female\"  # 범례에 추가할 부분\n",
        ")\n",
        "\n",
        "male_trace = go.Scatter(\n",
        "    x=Male['total_bill'],\n",
        "    y=Male['tip'],\n",
        "    mode='markers',\n",
        "    name=\"Male\"  # 범례에 추가할 부분\n",
        ")\n",
        "\n",
        "# 그래프 그리기\n",
        "fig = go.Figure()\n",
        "\n",
        "# 정의된 데이터 객체 추가\n",
        "fig.add_trace(female_trace)\n",
        "fig.add_trace(male_trace)\n",
        "\n",
        "# 그래프 표시\n",
        "fig.show()\n"
      ],
      "metadata": {
        "id": "flKLm_u2XqLs"
      },
      "execution_count": null,
      "outputs": []
    },
    {
      "cell_type": "markdown",
      "source": [
        "\n",
        "\n",
        "```\n",
        "# 범례 위치 지정\n",
        "\n",
        "fig.update_layout(\n",
        "            legend__x = (0~1) 사이값\n",
        "            legend__y = (0~1) 사이값\n",
        "            legend_xanchor = (`auto\",\"left\",\"center\",\"right\")\n",
        "            legend_yanchor = (\"auto\",\"top\",\"middle\",\"bottom\")\n",
        "            })\n",
        "```\n",
        "\n"
      ],
      "metadata": {
        "id": "tcYJKlHpag39"
      }
    },
    {
      "cell_type": "markdown",
      "source": [
        "\n",
        "\n",
        "```\n",
        "# 범례 가로 표시\n",
        "\n",
        "fig.update_layout(\n",
        "            legend_orientation = \"h\" # 가로배치 vs \"v\" : 세로배치\n",
        "            legend_entrywidth = 가로 길이\n",
        "            )\n",
        "```\n",
        "\n"
      ],
      "metadata": {
        "id": "6rkIhRDCaweh"
      }
    },
    {
      "cell_type": "markdown",
      "source": [
        "\n",
        "\n",
        "```\n",
        "# 범례 스타일 지정\n",
        "\n",
        "fig.update_layout(\n",
        "                    legend_title_text= 타이틀명 text 입력,        \n",
        "                    legend_title_font_family = 범례 타이틀 서체,\n",
        "                    legend_title_font_color= 범례 타이틀 색,\n",
        "                    legend_title_font_size= 범례 타이틀 글자 크기,\n",
        "                    legend_font_family= 범례 서체,\n",
        "                    legend_font_size=범례 글자 크기,\n",
        "                    legend_font_color=범례 색,\n",
        "                    legend_bgcolor= 범례 배경색,\n",
        "                    legend_bordercolor=범례 테두리 색,\n",
        "                    legend_borderwidth=범례 테두리 두깨\n",
        "                )\n",
        "```\n",
        "\n"
      ],
      "metadata": {
        "id": "mlChk-R7hVSQ"
      }
    },
    {
      "cell_type": "markdown",
      "source": [
        "### 텍스트/주석 넣기"
      ],
      "metadata": {
        "id": "jZQPpBfJYCgA"
      }
    },
    {
      "cell_type": "markdown",
      "source": [
        "#### 화살표 넣기"
      ],
      "metadata": {
        "id": "9BkPYutqYv6B"
      }
    },
    {
      "cell_type": "markdown",
      "source": [
        "\n",
        "\n",
        "```\n",
        "# Annotaion(화살표) 넣기\n",
        "\n",
        "fig.add_annotation(\n",
        "            x= x 좌표, y= y 좌표,\n",
        "            text= 주석 텍스트,\n",
        "            textangle= 텍스트 각도,\n",
        "            font_color = 텍스트 색,\n",
        "            font_family = 텍스트 서체,\n",
        "            font_size = 텍스트 사이즈,\n",
        "            arrowhead = 화살표 스타일,\n",
        "            arrowcolor= 화살표 색,\n",
        "            arrowside= 화살표 방향,\n",
        "            arrowsize= 화살표 크기,\n",
        "            arrowwidth = 화살표 두깨,\n",
        "            bgcolor=텍스트 백그라운드색,\n",
        "            bordercolor= 테두리 색,\n",
        "            borderwidth = 테두리 두깨,\n",
        "            opacity = 투명도,\n",
        "            xshift = x축 방향 평행이동,\n",
        "            yshift = y축 방향 평행이동)\n",
        "```\n",
        "\n"
      ],
      "metadata": {
        "id": "boXQ9OwWYK1F"
      }
    },
    {
      "cell_type": "markdown",
      "source": [
        "\n",
        "\n",
        "```\n",
        "# 예제 코드\n",
        "\n",
        "fig.add_annotation(x=2, y=5,\n",
        "            text=\"Text annotation with arrow\",\n",
        "            showarrow=True,\n",
        "            arrowhead=1)\n",
        "fig.add_annotation(x=4, y=4,\n",
        "            text=\"Text annotation without arrow\",\n",
        "            showarrow=False,\n",
        "            yshift=10)\n",
        "```\n",
        "\n"
      ],
      "metadata": {
        "id": "DkVq-cNLYYAD"
      }
    },
    {
      "cell_type": "markdown",
      "source": [
        "<img src=\"https://wikidocs.net/images/page/186276/anno_2.png\" width=\"400\" height=\"300\">"
      ],
      "metadata": {
        "id": "SQifedPFYkDa"
      }
    },
    {
      "cell_type": "markdown",
      "source": [
        "#### 텍스트 넣기"
      ],
      "metadata": {
        "id": "Zz_US67jYyF3"
      }
    },
    {
      "cell_type": "markdown",
      "source": [
        "\n",
        "\n",
        "```\n",
        "# 텍스트 넣기 코드\n",
        "\n",
        "go.Scatter(x=[X좌표 리스트], y=[Y좌표 리스트],text=[텍스트 리스트] mode=\"text\", textposition= 텍스트 위치)\n",
        "```\n",
        "\n"
      ],
      "metadata": {
        "id": "HJvRCqn5ZAXp"
      }
    },
    {
      "cell_type": "markdown",
      "source": [
        "[함수 input 내용]\n",
        "\n",
        "- x = [...] 텍스트 x좌표 리스트\n",
        "- y = [...] 텍스트 y좌표 리스트\n",
        "- text = [...] 텍스트 리스트\n",
        "- mode = \"text\" 모드를 text로 지정해야 삽입이 가능합니다..\n",
        "- textposition = {\"top left\" , \"top center\" , \"top right\" , \"middle left\" , \"middle center\", \"middle right\" , \"bottom left\" , \"bottom center\" , \"bottom right\"} 텍스트 위치 지정이 가능합니다."
      ],
      "metadata": {
        "id": "VcqrdEUpZLQg"
      }
    },
    {
      "cell_type": "markdown",
      "source": [
        "\n",
        "<img src=\"https://wikidocs.net/images/page/186276/anno_3.png\" width=\"400\" height=\"300\">"
      ],
      "metadata": {
        "id": "7BJmws6rZZW2"
      }
    },
    {
      "cell_type": "markdown",
      "source": [
        "### 이미지 파일 삽입"
      ],
      "metadata": {
        "id": "_dYVptrBZazo"
      }
    },
    {
      "cell_type": "markdown",
      "source": [
        "\n",
        "\n",
        "```\n",
        "# 이미지 파일 삽입하기\n",
        "\n",
        "fig.update_layout_images(\n",
        "            x = 이미지 왼쪽 위 모서리 x 좌표,\n",
        "            y = 이미지 왼쪽 위 모서리 y 좌표,\n",
        "            xref = 이미지 X 좌표축 설정,\n",
        "            yref = 이미지 Y 좌표축 설정,\n",
        "            sizex = x축 길이,\n",
        "            sizey = y축 길이,\n",
        "            sizing = 이미지 사이즈 지정 방법\n",
        "            source= 이미지 URL,\n",
        "            layer = 이미지 삽입 Layer\n",
        "            opacity = 투명도)\n",
        "```\n",
        "\n"
      ],
      "metadata": {
        "id": "DNkJq56GZ-De"
      }
    },
    {
      "cell_type": "markdown",
      "source": [
        "[함수 input 내용]\n",
        "\n",
        "\n",
        "- x = 이미지 왼쪽 위 모서리 x 좌표\n",
        "- y = 이미지 왼쪽 위 모서리 y 좌표\n",
        "- xref = 이미지 X 좌표축 설정\n",
        "    - \"x\" : 기본 좌표로 설정\n",
        "    - \"paper : x축 왼쪽으로부터의 거리 0->왼쪽, 1->오른\n",
        "- yref = 이미지 Y 좌표축 설정\n",
        "    - \"y\" : 기본 좌표로 설정\n",
        "    - \"paper : y축 바닥으로부터의 거리 0->바닥, 1->맨위\n",
        "- sizex = x축 길이\n",
        "- sizey = y축 길이\n",
        "- sizing = {\"fill\", \"contain\", \"stretch\"} 이미지 사이즈 지정 방법\n",
        "    - fill : sizex, sizey 에 원래 이미지의 비율에 맞춰 삽입\n",
        "    - contain : 원래 이미지 크기대로 삽입\n",
        "    - stretch : sizex, sizey 의 비율에 맞춰 원래 이미지 비율 변경 삽입\n",
        "- source= 이미지 URL\n",
        "- layer ={\"below\",\"above\"} 이미지 삽입 Layer\n",
        "    - below : 맨 뒤에 그리기\n",
        "    - above : 맨 위에 그리기\n",
        "- opacity = 투명도"
      ],
      "metadata": {
        "id": "MpJeteSKaEQF"
      }
    },
    {
      "cell_type": "markdown",
      "source": [
        "## Plotly 인터렉티브 환경 문법"
      ],
      "metadata": {
        "id": "r24_pfTTiIKL"
      }
    },
    {
      "cell_type": "markdown",
      "source": [
        "### Hover Label 종류 및 사용방법"
      ],
      "metadata": {
        "id": "0h-5w8HbkKqc"
      }
    },
    {
      "cell_type": "code",
      "source": [
        "#데이터 불러오기\n",
        "df = px.data.gapminder().query(\"continent=='Oceania'\")"
      ],
      "metadata": {
        "id": "oKgmMRMWXqJl"
      },
      "execution_count": null,
      "outputs": []
    },
    {
      "cell_type": "code",
      "source": [
        "df.head()"
      ],
      "metadata": {
        "id": "zZED-b9iya1L"
      },
      "execution_count": null,
      "outputs": []
    },
    {
      "cell_type": "code",
      "source": [
        "trace = go.Scatter(\n",
        "    x=df['year'],\n",
        "    y=df['lifeExp'],\n",
        "    mode='markers+lines',\n",
        "    # 여기서 각 데이터 포인트의 색상을 수동으로 지정해야 합니다.\n",
        "    # 예를 들어, 'country' 열의 고유값에 따라 색상 맵을 생성하고 이를 사용하여 색상을 지정할 수 있습니다.\n",
        "    # 이 예제에서는 단순화를 위해 모든 마커에 동일한 색상을 사용합니다.\n",
        "    marker=dict(color='rgba(255, 0, 0, 0.5)'),  # 예시 색상\n",
        "    name = df.country\n",
        ")\n",
        "\n",
        "\n",
        "data = [trace]\n",
        "\n",
        "layout = go.Layout(\n",
        "    hoverlabel=dict(\n",
        "        bgcolor=\"white\",\n",
        "        font_size=20,\n",
        "        font_color=\"red\",\n",
        "        font_family=\"Rockwell\"\n",
        "    )\n",
        ")\n",
        "\n",
        "fig = go.Figure(data, layout)\n",
        "\n",
        "\n",
        "fig.update_traces(hovertemplate='연도: %{x} <br>'+\n",
        "                                'pop: %{text} <br>'+\n",
        "                                 'lifeExp : %{y}')\n",
        "\n",
        "fig.show()\n"
      ],
      "metadata": {
        "id": "E94s7Li7XqHi"
      },
      "execution_count": null,
      "outputs": []
    },
    {
      "cell_type": "code",
      "source": [],
      "metadata": {
        "id": "CgW1YrQRqCcs"
      },
      "execution_count": null,
      "outputs": []
    }
  ]
}