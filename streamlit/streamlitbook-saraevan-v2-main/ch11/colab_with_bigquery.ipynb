{
  "nbformat": 4,
  "nbformat_minor": 0,
  "metadata": {
    "colab": {
      "provenance": []
    },
    "kernelspec": {
      "name": "python3",
      "display_name": "Python 3"
    },
    "language_info": {
      "name": "python"
    }
  },
  "cells": [
    {
      "cell_type": "code",
      "source": [
        "from google.colab import auth\n",
        "auth.authenticate_user()\n",
        "print('Authenticated')"
      ],
      "metadata": {
        "colab": {
          "base_uri": "https://localhost:8080/"
        },
        "id": "K7KAbZAPOpAS",
        "outputId": "addc7eee-48a8-4f45-8451-b5fee5fb0371"
      },
      "execution_count": 1,
      "outputs": [
        {
          "output_type": "stream",
          "name": "stdout",
          "text": [
            "Authenticated\n"
          ]
        }
      ]
    },
    {
      "cell_type": "code",
      "execution_count": 3,
      "metadata": {
        "colab": {
          "base_uri": "https://localhost:8080/"
        },
        "id": "1-r33nsyOkRu",
        "outputId": "cf20ef92-1c66-4e71-97e5-81e3a8c6103e"
      },
      "outputs": [
        {
          "output_type": "stream",
          "name": "stdout",
          "text": [
            "<class 'pandas.core.frame.DataFrame'>\n",
            "RangeIndex: 1000 entries, 0 to 999\n",
            "Data columns (total 16 columns):\n",
            " #   Column                   Non-Null Count  Dtype         \n",
            "---  ------                   --------------  -----         \n",
            " 0   tripduration             0 non-null      Int64         \n",
            " 1   starttime                0 non-null      datetime64[ns]\n",
            " 2   stoptime                 0 non-null      datetime64[ns]\n",
            " 3   start_station_id         0 non-null      Int64         \n",
            " 4   start_station_name       1000 non-null   object        \n",
            " 5   start_station_latitude   0 non-null      float64       \n",
            " 6   start_station_longitude  0 non-null      float64       \n",
            " 7   end_station_id           0 non-null      Int64         \n",
            " 8   end_station_name         1000 non-null   object        \n",
            " 9   end_station_latitude     0 non-null      float64       \n",
            " 10  end_station_longitude    0 non-null      float64       \n",
            " 11  bikeid                   0 non-null      Int64         \n",
            " 12  usertype                 1000 non-null   object        \n",
            " 13  birth_year               0 non-null      Int64         \n",
            " 14  gender                   1000 non-null   object        \n",
            " 15  customer_plan            1000 non-null   object        \n",
            "dtypes: Int64(5), datetime64[ns](2), float64(4), object(5)\n",
            "memory usage: 130.0+ KB\n",
            "None\n"
          ]
        }
      ],
      "source": [
        "from google.cloud import bigquery\n",
        "\n",
        "project_id = 'Project_ID'\n",
        "\n",
        "client = bigquery.Client(project=project_id)\n",
        "\n",
        "df = client.query('''\n",
        "  SELECT *\n",
        "  FROM `bigquery-public-data.new_york_citibike.citibike_trips` LIMIT 1000''').to_dataframe()\n",
        "\n",
        "print(df.info())"
      ]
    }
  ]
}